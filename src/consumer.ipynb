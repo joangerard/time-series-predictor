{
 "cells": [
  {
   "cell_type": "markdown",
   "metadata": {},
   "source": [
    "# INFO-H-515 -  Big Data : Distributed Data Management and Scalable Analytics\n",
    "\n",
    "### Geisser Niklaus -  [niklaus.geisser@ulb.be](mailto:niklaus.geisser@ulb.be) - Student ID 469478\n",
    "### Gerard Joan -       [joan.sebastian.gerard.salinas@ulb.be](mailto:joan.sebastian.gerard.salinas@ulb.be) - Student ID 471612\n",
    "\n",
    "# Time Series Prediction with Linear Models\n"
   ]
  },
  {
   "cell_type": "markdown",
   "metadata": {},
   "source": [
    "# Introduction"
   ]
  },
  {
   "cell_type": "code",
   "execution_count": 3,
   "metadata": {},
   "outputs": [],
   "source": [
    "# to be completed"
   ]
  },
  {
   "cell_type": "markdown",
   "metadata": {},
   "source": [
    "## General imports"
   ]
  },
  {
   "cell_type": "code",
   "execution_count": 70,
   "metadata": {},
   "outputs": [],
   "source": [
    "import time\n",
    "import re, ast\n",
    "import numpy as np\n",
    "import os\n",
    "import glob\n",
    "import json\n",
    "import matplotlib.pyplot as plt\n",
    "\n",
    "\n",
    "from sklearn.ensemble import RandomForestRegressor\n",
    "from sklearn.ensemble import GradientBoostingRegressor \n",
    "from sklearn import linear_model\n",
    "from pyspark.streaming import StreamingContext\n",
    "from pyspark.streaming.kafka import KafkaUtils\n",
    "from sklearn.linear_model import LinearRegression\n",
    "from sklearn.metrics import mean_squared_error\n",
    "from message import Message"
   ]
  },
  {
   "cell_type": "markdown",
   "metadata": {},
   "source": [
    "### Start Spark session\n"
   ]
  },
  {
   "cell_type": "code",
   "execution_count": 31,
   "metadata": {
    "scrolled": true
   },
   "outputs": [],
   "source": [
    "from pyspark.sql import SparkSession\n",
    "from pyspark.streaming import StreamingContext\n",
    "from pyspark.streaming.kafka import KafkaUtils\n",
    "\n",
    "\n",
    "os.environ['PYSPARK_SUBMIT_ARGS'] = '--conf spark.ui.port=4050 '+\\\n",
    "                        '--packages org.apache.spark:spark-streaming-kafka-0-8_2.11:2.4.4 '+\\\n",
    "        '--conf spark.driver.memory=2g  pyspark-shell'\n",
    "\n",
    "spark = SparkSession \\\n",
    "    .builder \\\n",
    "    .master(\"local[2]\") \\\n",
    "    .appName(\"KafkaReceive\") \\\n",
    "    .getOrCreate()"
   ]
  },
  {
   "cell_type": "markdown",
   "metadata": {
    "collapsed": true
   },
   "source": [
    "### Function to connect Spark Streaming and Kafka on a given topic"
   ]
  },
  {
   "cell_type": "code",
   "execution_count": 32,
   "metadata": {},
   "outputs": [],
   "source": [
    "#This function creates a connection to a Kafka stream\n",
    "#You may change the topic, or batch interval\n",
    "#The Zookeeper server is assumed to be running at 127.0.0.1:2181\n",
    "#The function returns the Spark context, Spark streaming context, and DStream object\n",
    "def getKafkaDStream(spark,topic='persistence',batch_interval=10):\n",
    "\n",
    "    #Get Spark context\n",
    "    sc=spark.sparkContext\n",
    "\n",
    "    #Create streaming context, with required batch interval\n",
    "    ssc = StreamingContext(sc, batch_interval)\n",
    "\n",
    "    #Checkpointing needed for stateful transforms\n",
    "    ssc.checkpoint(\"checkpoint\")\n",
    "    \n",
    "    #Create a DStream that represents streaming data from Kafka, for the required topic \n",
    "    dstream = KafkaUtils.createStream(ssc, \"127.0.0.1:2181\", \"spark-streaming-consumer\", {topic: 1})\n",
    "    \n",
    "    return [sc,ssc,dstream]\n"
   ]
  },
  {
   "cell_type": "code",
   "execution_count": 33,
   "metadata": {},
   "outputs": [],
   "source": [
    "def parse_message(x):\n",
    "    \"\"\"\n",
    "    This message transforms the received json string into a message object.\n",
    "    \n",
    "    :param x string containing the message\n",
    "    \n",
    "    :return Message\n",
    "    \"\"\"\n",
    "    messageDict = x[1]\n",
    "    messageDict = json.loads(messageDict)\n",
    "    message = Message()\n",
    "    message.id = messageDict[\"id\"]\n",
    "    message.x = messageDict[\"x\"]\n",
    "    return message\n",
    "    "
   ]
  },
  {
   "cell_type": "code",
   "execution_count": 66,
   "metadata": {},
   "outputs": [],
   "source": [
    "def get_data_from_file(partitions=[0,1], prefix='test', search_dir = \"./\", file_index=-1):\n",
    "    \"\"\"\n",
    "    In charge of reading the last file containing information regarding the last stream\n",
    "    and processing it to return an tuple with the keys, mses and the stream data.\n",
    "    \n",
    "    :param partitions If the algorithm uses 2 partitions then this will receive [0,1] if it is 4 will be [0,1,2,3]\n",
    "    :param prefix     It is the prefix of the directory name\n",
    "    :param search_dir Where it should the algorithm look for these files\n",
    "    :param file_index If it is -1 it will use the last file (containing the last stream data), if it is 0 it will\n",
    "                      use the first file (containing the first stream data)\n",
    "                      \n",
    "    :return (keys_all, mses_all, ys_all)     keys, mses and data stream\n",
    "    \"\"\"\n",
    "    keys_all = []\n",
    "    mses_all = []\n",
    "    ys_all = []\n",
    "\n",
    "    count = 0\n",
    "    \n",
    "    files = list(filter(os.path.isdir, glob.glob(search_dir + prefix +\"*\")))\n",
    "    files.sort(key=lambda x: os.path.getmtime(x))\n",
    "\n",
    "    for j in partitions:\n",
    "        file_name = \"/part-0000%s\" % str(j)\n",
    "        data=files[file_index] + file_name\n",
    "        F=open(data, \"r\")\n",
    "        models = F.read().split('\\n')\n",
    "\n",
    "        for model in models:\n",
    "            if (len(model) > 0):\n",
    "                count += 1\n",
    "                rls1 = model.split(' separator ')\n",
    "                key = rls1[0]\n",
    "                mses = list(map(lambda x: float(x), rls1[1][1:-1].split(',')))\n",
    "                ys = list(map(lambda x: float(x), rls1[2][1:-1].split(',')))\n",
    "\n",
    "                keys_all.append(key)\n",
    "                mses_all.append(mses)\n",
    "                ys_all = ys\n",
    "    return (keys_all, mses_all, ys_all)"
   ]
  },
  {
   "cell_type": "code",
   "execution_count": 67,
   "metadata": {},
   "outputs": [],
   "source": [
    "def plot_mse(range_view_start, range_view_end, keys, mses):\n",
    "    \"\"\"\n",
    "    It plots the mse for a given range. If the stream size is 1000 then the max value for range_view_end is 1000.\n",
    "    \n",
    "    :param range_view_start Start of the range\n",
    "    :param range_view_end   End of the range\n",
    "    :param keys             The name of the models\n",
    "    :param mses             The mses values\n",
    "    \n",
    "    \"\"\"\n",
    "    x = np.arange(range_view_start, range_view_end)\n",
    "    for i in range(len(keys)):\n",
    "        plt.plot(x, mses[i][range_view_start: range_view_end], label=keys[i])\n",
    "\n",
    "    plt.title('MSE')\n",
    "    plt.legend(loc=\"upper left\")\n",
    "    plt.xlabel('time')\n",
    "    plt.ylabel('mse')\n",
    "    plt.show()"
   ]
  },
  {
   "cell_type": "code",
   "execution_count": 68,
   "metadata": {},
   "outputs": [],
   "source": [
    "def plot_time_series(range_view_start, range_view_end, ys):\n",
    "    \"\"\"\n",
    "    It plots the time series for a given range. If the stream size is 1000 then the max value for range_view_end is 1000.\n",
    "    \n",
    "    :param range_view_start Start of the range\n",
    "    :param range_view_end   End of the range\n",
    "    :param keys             The name of the models\n",
    "    :param mses             The mses values\n",
    "    \n",
    "    \"\"\"\n",
    "    x = np.arange(range_view_start, range_view_end)\n",
    "    plt.plot(x, ys[range_view_start:range_view_end])\n",
    "    plt.title('Time Series')\n",
    "    plt.xlabel('time')\n",
    "    plt.ylabel('value')\n",
    "    plt.show()"
   ]
  },
  {
   "cell_type": "markdown",
   "metadata": {},
   "source": [
    "# Persistence model"
   ]
  },
  {
   "cell_type": "markdown",
   "metadata": {},
   "source": [
    "## Raw data consumption"
   ]
  },
  {
   "cell_type": "code",
   "execution_count": 34,
   "metadata": {},
   "outputs": [],
   "source": [
    "def persistence_prediction(stream, tail):\n",
    "    \"\"\"\n",
    "    Computes the prediction of future time-steps based on a stream and last \"V\" values.\n",
    "    \n",
    "    :param stream  list of elements received by kafka\n",
    "    :param tail    last \"V\" values of a previous stream\n",
    "    \n",
    "    :return:       predictions\n",
    "    \"\"\"\n",
    "    predictions = []\n",
    "    len_last_values = len(tail)  # Length of V\n",
    "    last_values_plus_stream = np.concatenate((tail, np.array(stream))) # Array that contains the \"V\" last elements of the stream\n",
    "    \n",
    "    for time_in_stream in range(len(stream)):\n",
    "        time_in_concat = time_in_stream + len_last_values\n",
    "        sliding_window = last_values_plus_stream[time_in_stream:time_in_concat]\n",
    "        prediction = np.mean(sliding_window)\n",
    "        predictions.append(prediction)\n",
    "        \n",
    "    return predictions"
   ]
  },
  {
   "cell_type": "code",
   "execution_count": 51,
   "metadata": {},
   "outputs": [],
   "source": [
    "def update_function_persistence(new_values, state):\n",
    "    \"\"\"\n",
    "    Updates the state for the persistence models.\n",
    "    \n",
    "    :param new_value  stream to be processed\n",
    "    :param state      current state in memory\n",
    "    \n",
    "    :return:          new state\n",
    "    \"\"\"\n",
    "    L = len(new_values)\n",
    "    \n",
    "    if L > 0:\n",
    "        key, predictions, tail, mse, mses, D, N = state  # Unpacking the state\n",
    "        \n",
    "        result_predictions = []\n",
    "        mses = []\n",
    "        D = []\n",
    "        \n",
    "        for stream in new_values:\n",
    "            predictions = persistence_prediction(stream, tail)\n",
    "            if N == 0:  # Replace the \"v\" first values of the predictions with the \"v\" first values of the stream if first time\n",
    "                predictions[:len(tail)] = stream[:len(tail)]\n",
    "            tail = stream[-len(tail):]  # Update last V values of stream\n",
    "            err = np.subtract(stream, predictions)  ## prediction error for the latest values\n",
    "            N += len(stream)\n",
    "            for e in err:\n",
    "                mse = mse + 1.0 / N * (pow(e, 2.0) - mse)  ## sequential update of MSE\n",
    "                mses.append(mse)\n",
    "            result_predictions.append(predictions)\n",
    "            D = D + stream\n",
    "            \n",
    "        return key, result_predictions, tail, mse, mses, D, N\n",
    "    else:\n",
    "        return state"
   ]
  },
  {
   "cell_type": "code",
   "execution_count": 54,
   "metadata": {},
   "outputs": [],
   "source": [
    "def get_initial_state_persistence(v, sc):\n",
    "    \"\"\"\n",
    "    Gets the initial state for persistence models.\n",
    "        ex: v = [1,2,3, 4]\n",
    "            return RDD with values [('V1', state_V1),('V2', state_V2),('V3', state_V3),('V4', state_V4)]\n",
    "    \n",
    "    :param v:  Numbers array of last values required to average\n",
    "    \n",
    "    :return:   [(key, state)] RDDS\n",
    "    \"\"\"\n",
    "    rdds = []\n",
    "    for value in v:\n",
    "        key = 'V%s' % str(value)\n",
    "        tail = np.zeros(value)  # V last elements from previous stream (initially set to 0)\n",
    "        mse = 0  # mean square error\n",
    "        mses = [] # history of mse\n",
    "        D = [] # processed stream\n",
    "        predictions = []  # Empty array that will store the predicted values for the received stream (Just for visual purposes)\n",
    "        N = 0  #\n",
    "        state = (key, predictions, tail, mse, mses, D, N)\n",
    "        rdd = (key, state)\n",
    "        rdds.append(rdd)\n",
    "    return sc.parallelize(rdds)\n"
   ]
  },
  {
   "cell_type": "code",
   "execution_count": 72,
   "metadata": {},
   "outputs": [],
   "source": [
    "V = [1,2,3,4] # Averaging the last 1, 2, 3 and 4 values of stream.\n",
    "\n",
    "[sc,ssc,dstream]=getKafkaDStream(spark=spark,topic='timeSerieS',batch_interval=2)\n",
    "initialStateRDD = get_initial_state_persistence(V, sc)\n",
    "dataS = dstream.map(parse_message)\n",
    "\n",
    "dataS = dataS.flatMap(lambda message: [('V%s' % str(v), message.x) for v in V])\n",
    "updatedS=dataS.updateStateByKey(update_function_persistence,initialRDD=initialStateRDD)\n",
    "# key separator mses separator stream\n",
    "outputS = updatedS.map(lambda x: \"%s separator %s separator %s\" % (str(x[1][0]), str(x[1][4]), str(x[1][5]))).saveAsTextFiles('test-persistence')\n"
   ]
  },
  {
   "cell_type": "code",
   "execution_count": 73,
   "metadata": {},
   "outputs": [],
   "source": [
    "ssc.start()"
   ]
  },
  {
   "cell_type": "code",
   "execution_count": 74,
   "metadata": {},
   "outputs": [],
   "source": [
    "ssc.stop(stopSparkContext=False,stopGraceFully=False)"
   ]
  },
  {
   "cell_type": "markdown",
   "metadata": {},
   "source": [
    "## Visualize MSE and Time Series"
   ]
  },
  {
   "cell_type": "code",
   "execution_count": 75,
   "metadata": {},
   "outputs": [
    {
     "data": {
      "image/png": "[encoded data removed]",
      "text/plain": [
       "<Figure size 432x288 with 1 Axes>"
      ]
     },
     "metadata": {
      "needs_background": "light"
     },
     "output_type": "display_data"
    },
    {
     "data": {
      "image/png": "[encoded data removed]",
      "text/plain": [
       "<Figure size 432x288 with 1 Axes>"
      ]
     },
     "metadata": {
      "needs_background": "light"
     },
     "output_type": "display_data"
    }
   ],
   "source": [
    "range_view_start = 0\n",
    "range_view_end = 1000\n",
    "(keys, mses, ys) = get_data_from_file(partitions=[0,1], prefix='test-persistence')\n",
    "plot_mse(range_view_start, range_view_end, keys, mses)\n",
    "plot_time_series(range_view_start, range_view_end, ys)"
   ]
  },
  {
   "cell_type": "markdown",
   "metadata": {},
   "source": [
    "# Parallel linear models"
   ]
  },
  {
   "cell_type": "code",
   "execution_count": 76,
   "metadata": {},
   "outputs": [],
   "source": [
    "def build_data_set(message, n):\n",
    "    \"\"\"\n",
    "    For message.x = [3,4,5,6,7] and n = 2 this function constructs:\n",
    "    \n",
    "    xy = [\n",
    "        [1, 3, 4, 5], # x1=1, x2=3, x3=4, y=5\n",
    "        [1, 4, 5, 6], # x1=1, x2=4, x3=5, y=6\n",
    "        [1, 5, 6, 7], # x1=1, x2=5, x3=6, y=7\n",
    "    ]\n",
    "    \n",
    "    :param message Object Message containing data stream\n",
    "    :param n       Int containing the number of features \n",
    "    \n",
    "    :return (id, XY_dataset)\n",
    "    \"\"\"\n",
    "    \n",
    "    ones = [1] * (len(message.x) - n)\n",
    "    xy = [ones]\n",
    "    size = len(message.x)\n",
    "    \n",
    "    for i in range(n+1):\n",
    "        xy.append(message.x[i: size + i - n])\n",
    "    \n",
    "    xy = np.transpose(xy)\n",
    "    return (message.id, xy)"
   ]
  },
  {
   "cell_type": "code",
   "execution_count": 77,
   "metadata": {},
   "outputs": [],
   "source": [
    "def rls_step(y, x, beta, V, nu):\n",
    "    \"\"\"\n",
    "    Recalculates the values for RLS\n",
    "    \n",
    "    :param y     Float target value\n",
    "    :param x     Array of features values\n",
    "    :param beta  Array of beta values\n",
    "    :param V     Covariance\n",
    "    :param nu.   Forgetting Factor\n",
    "    \n",
    "    :return (beta, V, err, yhat) updated\n",
    "    \"\"\"\n",
    "    x = np.array(x)\n",
    "    y = np.array(y)\n",
    "    V = np.array(V)\n",
    "    beta = np.array(beta)\n",
    "\n",
    "    x.shape = (1, len(x))\n",
    "    beta.shape = (1, x.shape[1])\n",
    "\n",
    "    V = 1.0/nu * (V - V.dot(x.T).dot(x).dot(V) / (1.0 + float(x.dot(V).dot(x.T))))\n",
    "    alpha = V.dot(x.T)\n",
    "    yhat = x.dot(beta.T)\n",
    "    err = y - yhat\n",
    "    beta = beta + alpha.T * err\n",
    "\n",
    "    return (beta, V, err, yhat)"
   ]
  },
  {
   "cell_type": "code",
   "execution_count": 78,
   "metadata": {},
   "outputs": [],
   "source": [
    "def get_initial_state_linear_models(n, sc):\n",
    "    \"\"\"\n",
    "    Gets the initial state for persistence models.\n",
    "        ex: n = [1,2,3, 4]\n",
    "            return RDD with values [('rls1', state1),('rls2', state2),('rls3', state3),('rls4', state4)]\n",
    "    \n",
    "    :param n  Array containing the number of features\n",
    "    \n",
    "    :return:  [(key, state)] RDDS\n",
    "    \"\"\"\n",
    "    rdds = []\n",
    "    for i in n:\n",
    "        key = 'rls%s' % i\n",
    "        num_features = i + 1\n",
    "        beta1=np.zeros(num_features)\n",
    "        tail = np.zeros(num_features)\n",
    "        v0=10 ## initialization covariance\n",
    "        V1=np.diag(np.zeros(num_features)+v0) ## initial covariance matrix for model 1\n",
    "        nu1=1.0 # forgetting factor for model 1\n",
    "\n",
    "        recentSize=10\n",
    "        D=[]\n",
    "        mses=[]\n",
    "        E=np.zeros((1,1))\n",
    "        mse=0\n",
    "        N=0\n",
    "        state = (key, beta1, V1, nu1, mse, mses, N, D, E, tail, i)\n",
    "        rdd = (key, state)\n",
    "        rdds.append(rdd)\n",
    "\n",
    "    return sc.parallelize(rdds)"
   ]
  },
  {
   "cell_type": "code",
   "execution_count": 86,
   "metadata": {},
   "outputs": [],
   "source": [
    "def update_function_linear_models(new_values, state):\n",
    "    \"\"\"\n",
    "    Updates the state for the linear models.\n",
    "    \n",
    "    :param new_value  stream to be processed\n",
    "    :param state      current state in memory\n",
    "    \n",
    "    :return           new state\n",
    "    \"\"\"\n",
    "    L=len(new_values)\n",
    "\n",
    "    if (L>0):\n",
    "        # Extract the data from state variable\n",
    "        (algo_key, beta, V, nu, mse, mses, N, D, E, tail, n) = state\n",
    "        \n",
    "        # reset previous state\n",
    "        D = []\n",
    "        mses = []\n",
    "\n",
    "        # Iterate over all the datasets received\n",
    "        for i in range(len(new_values)):\n",
    "            message = new_values[i]\n",
    "            \n",
    "            # Append analyzed values to D vector\n",
    "            D = D + message.x\n",
    "            \n",
    "            # add the last n elements from the previous stream to the beginning of the current one\n",
    "            if (N > 0):\n",
    "                message.x = tail + message.x\n",
    "            \n",
    "            # define new tail for the next stream\n",
    "            tail = message.x[-n:]\n",
    "            \n",
    "            # build data set for current stream\n",
    "            (key, data_set) = build_data_set(message, n)\n",
    "\n",
    "            # iterate over all the samples\n",
    "            for sample in data_set:\n",
    "\n",
    "                y = sample[-1]\n",
    "                x = sample[:-1]\n",
    "\n",
    "                # Compute RLS state update\n",
    "                RL = rls_step(y,x,beta,V,nu)\n",
    "\n",
    "                # Update the state values\n",
    "                beta =RL[0]\n",
    "                V = RL[1]\n",
    "                err = RL[2]\n",
    "                E = np.append(E, err)\n",
    "                N = N + 1\n",
    "                mse = mse+1.0/N * (pow(err, 2.0) - mse)\n",
    "                mses.append(mse[0][0])\n",
    "\n",
    "        return (algo_key, beta, V, nu, mse, mses, N, D, E, tail, n)\n",
    "\n",
    "    else:\n",
    "        return state\n"
   ]
  },
  {
   "cell_type": "code",
   "execution_count": 123,
   "metadata": {},
   "outputs": [],
   "source": [
    "n = [1,2,3,4]\n",
    "\n",
    "[sc,ssc,dstream]=getKafkaDStream(spark=spark,topic='timeSerieS',batch_interval=1)\n",
    "initial_state = get_initial_state_linear_models(n, sc)\n",
    "\n",
    "dataS = dstream.flatMap(lambda data: [('rls%s'%i, parse_message(data)) for i in n])\n",
    "updatedS = dataS.updateStateByKey(update_function_linear_models, initialRDD=initial_state)\n",
    "\n",
    "# key separator mses separator stream\n",
    "outmseS=updatedS.map(lambda x: \"%s separator %s separator %s\" % (str(x[1][0]), str(x[1][5]), str(x[1][7]))).saveAsTextFiles('test-linear-models')\n"
   ]
  },
  {
   "cell_type": "code",
   "execution_count": 124,
   "metadata": {},
   "outputs": [],
   "source": [
    "ssc.start()"
   ]
  },
  {
   "cell_type": "code",
   "execution_count": 125,
   "metadata": {},
   "outputs": [],
   "source": [
    "ssc.stop(stopSparkContext=False,stopGraceFully=False)"
   ]
  },
  {
   "cell_type": "code",
   "execution_count": null,
   "metadata": {},
   "outputs": [],
   "source": [
    "(keys, mses, ys) = get_data_from_file(partitions=[0,1], prefix='test-linear-models')"
   ]
  },
  {
   "cell_type": "code",
   "execution_count": 129,
   "metadata": {},
   "outputs": [
    {
     "data": {
      "image/png": "[encoded data removed]",
      "text/plain": [
       "<Figure size 432x288 with 1 Axes>"
      ]
     },
     "metadata": {
      "needs_background": "light"
     },
     "output_type": "display_data"
    },
    {
     "data": {
      "image/png": "[encoded data removed]",
      "text/plain": [
       "<Figure size 432x288 with 1 Axes>"
      ]
     },
     "metadata": {
      "needs_background": "light"
     },
     "output_type": "display_data"
    }
   ],
   "source": [
    "range_view_start = 500\n",
    "range_view_end = 1000\n",
    "\n",
    "plot_mse(range_view_start, range_view_end, keys, mses)\n",
    "plot_time_series(range_view_start, range_view_end, ys)"
   ]
  },
  {
   "cell_type": "markdown",
   "metadata": {},
   "source": [
    "## Model order analysis\n",
    "\n"
   ]
  },
  {
   "cell_type": "markdown",
   "metadata": {},
   "source": [
    "## Forgetting factor analysis"
   ]
  },
  {
   "cell_type": "code",
   "execution_count": 145,
   "metadata": {},
   "outputs": [],
   "source": [
    "def get_initial_state_forgettin_factor(nus, num_features, sc):\n",
    "    \"\"\"\n",
    "    \n",
    "    \"\"\"\n",
    "    rdds = []\n",
    "    for nu in nus:\n",
    "        key = 'nu_%s' % str(nu)\n",
    "        beta1=np.zeros(num_features)\n",
    "        tail = np.zeros(num_features)\n",
    "        v0=10 ## initialization covariance\n",
    "        V1=np.diag(np.zeros(num_features)+v0) ## initial covariance matrix for model 1\n",
    "        nu1=nu # forgetting factor\n",
    "\n",
    "        D=[]\n",
    "        mses=[]\n",
    "        E=np.zeros((1,1))\n",
    "        mse=0\n",
    "        N=0\n",
    "        state = (key, beta1, V1, nu1, mse, mses, N, D, E, tail, num_features-1)\n",
    "        rdd = (key, state)\n",
    "        rdds.append(rdd)\n",
    "\n",
    "    return sc.parallelize(rdds)"
   ]
  },
  {
   "cell_type": "code",
   "execution_count": 146,
   "metadata": {},
   "outputs": [],
   "source": [
    "nus = [0.99, 0.95, 0.9]\n",
    "\n",
    "[sc,ssc,dstream]=getKafkaDStream(spark=spark,topic='timeSerieS',batch_interval=1)\n",
    "initial_state = get_initial_state_forgettin_factor(nus, 2, sc)\n",
    "\n",
    "dataS = dstream.flatMap(lambda data: [('nu_%s'%str(nu), parse_message(data)) for nu in nus])\n",
    "updatedS = dataS.updateStateByKey(update_function_linear_models, initialRDD=initial_state)\n",
    "\n",
    "# key separator mses separator stream\n",
    "outmseS=updatedS.map(lambda x: \"%s separator %s separator %s\" % (str(x[1][0]), str(x[1][5]), str(x[1][7]))).saveAsTextFiles('test-forgetting-factor')\n"
   ]
  },
  {
   "cell_type": "code",
   "execution_count": 147,
   "metadata": {},
   "outputs": [],
   "source": [
    "ssc.start()"
   ]
  },
  {
   "cell_type": "code",
   "execution_count": 148,
   "metadata": {},
   "outputs": [],
   "source": [
    "ssc.stop(stopSparkContext=False,stopGraceFully=False)"
   ]
  },
  {
   "cell_type": "code",
   "execution_count": 149,
   "metadata": {},
   "outputs": [],
   "source": [
    "(keys, mses, ys) = get_data_from_file(partitions=[0,1], prefix='test-forgetting-factor')"
   ]
  },
  {
   "cell_type": "code",
   "execution_count": 152,
   "metadata": {},
   "outputs": [
    {
     "data": {
      "image/png": "[encoded data removed]",
      "text/plain": [
       "<Figure size 432x288 with 1 Axes>"
      ]
     },
     "metadata": {
      "needs_background": "light"
     },
     "output_type": "display_data"
    },
    {
     "data": {
      "image/png": "[encoded data removed]",
      "text/plain": [
       "<Figure size 432x288 with 1 Axes>"
      ]
     },
     "metadata": {
      "needs_background": "light"
     },
     "output_type": "display_data"
    }
   ],
   "source": [
    "range_view_start = 0\n",
    "range_view_end = 1000\n",
    "\n",
    "plot_mse(range_view_start, range_view_end, keys, mses)\n",
    "plot_time_series(range_view_start, range_view_end, ys)"
   ]
  },
  {
   "cell_type": "markdown",
   "metadata": {},
   "source": [
    "# Results discussion"
   ]
  },
  {
   "cell_type": "markdown",
   "metadata": {},
   "source": [
    "# Conclusions"
   ]
  },
  {
   "cell_type": "code",
   "execution_count": null,
   "metadata": {},
   "outputs": [],
   "source": []
  }
 ],
 "metadata": {
  "kernelspec": {
   "display_name": "Python 3",
   "language": "python",
   "name": "python3"
  },
  "language_info": {
   "codemirror_mode": {
    "name": "ipython",
    "version": 3
   },
   "file_extension": ".py",
   "mimetype": "text/x-python",
   "name": "python",
   "nbconvert_exporter": "python",
   "pygments_lexer": "ipython3",
   "version": "3.7.3"
  }
 },
 "nbformat": 4,
 "nbformat_minor": 1
}
