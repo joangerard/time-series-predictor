{
 "cells": [
  {
   "cell_type": "markdown",
   "metadata": {},
   "source": [
    "# Producer"
   ]
  },
  {
   "cell_type": "markdown",
   "metadata": {},
   "source": [
    "The data was generated based on the following formula:\n",
    "\n",
    "$$\n",
    "y(t+1) = -0.4 \\frac{(3 - y(t)^2)}{(1 + y(t)^2)} + 0.6 \\frac{(3 - (y(t-1) - 0.5)^3)}{(1 + (y(t-1) - 0.5)^3)}\n",
    "$$\n"
   ]
  },
  {
   "cell_type": "code",
   "execution_count": 1,
   "metadata": {},
   "outputs": [],
   "source": [
    "from kafka import KafkaProducer\n",
    "import time\n",
    "import numpy as np\n",
    "import json\n",
    "from message import Message\n",
    "from messageManager import MessageManager\n",
    "from messageManagerFactory import MessageManagerFactory"
   ]
  },
  {
   "cell_type": "code",
   "execution_count": 2,
   "metadata": {},
   "outputs": [],
   "source": [
    "producer = KafkaProducer(bootstrap_servers='localhost:9092')"
   ]
  },
  {
   "cell_type": "code",
   "execution_count": 3,
   "metadata": {},
   "outputs": [],
   "source": [
    "def get_y_future(y_current, y_before):\n",
    "    \"\"\"\n",
    "    Calculates the y(t+1) based on y(t) and y(t-1)\n",
    "    \n",
    "    Parameters\n",
    "    ----------\n",
    "    arg1: float\n",
    "        represents y(t)\n",
    "    arg2: float\n",
    "        represents y(t-1)\n",
    "        \n",
    "    Returns\n",
    "    -------\n",
    "    float\n",
    "        y(t+1)\n",
    "    \"\"\"\n",
    "    return -0.4 * (3 - pow(y_current, 2))/(1 + pow(y_current, 2)) + 0.6 * (3 - pow(y_before - 0.5, 3)) / (1 + pow(y_before - 0.5, 3))\n"
   ]
  },
  {
   "cell_type": "code",
   "execution_count": 4,
   "metadata": {},
   "outputs": [],
   "source": [
    "def send_message(message, producer, topic_name):\n",
    "    \"\"\"\n",
    "    It uses the producer to sent a message using that topic's name\n",
    "    \n",
    "    Parameters\n",
    "    ----------\n",
    "    arg1: Message\n",
    "        an object containing the id and the inputs xs\n",
    "    arg2: KafkaProducer\n",
    "    arg3: string\n",
    "    \n",
    "    Returns\n",
    "    -------\n",
    "    string\n",
    "        JSON message that was sent\n",
    "    \"\"\"\n",
    "\n",
    "    message_json = json.dumps(message.__dict__)\n",
    "    producer.send(topic_name, message_json.encode())\n",
    "    return message_json"
   ]
  },
  {
   "cell_type": "code",
   "execution_count": 6,
   "metadata": {},
   "outputs": [
    {
     "name": "stdout",
     "output_type": "stream",
     "text": [
      "Message on topic timeSerieS\n",
      "\t ID  1  SIZE  1000  INPUT  [0.0024151530439742164, 0.027939322560110558, 0.938466063764634, 1.631408777013852, 1.5764373213527065]\n",
      "\n",
      "\n",
      "Message on topic timeSerieS\n",
      "\t ID  2  SIZE  1000  INPUT  [-1.6230472101707256, -1.1617422500454804, -1.1610243408305332, -1.5502007771792883, -1.340029351705976]\n",
      "\n",
      "\n",
      "Message on topic timeSerieS\n",
      "\t ID  3  SIZE  1000  INPUT  [-1.5262923317286454, -1.374956053981285, -1.081420115911641, -1.3667432160077917, -1.5700771148941064]\n",
      "\n",
      "\n",
      "Message on topic timeSerieS\n",
      "\t ID  4  SIZE  1000  INPUT  [-1.3422208023888424, -1.5911690436648211, -1.109985519956949, -1.2114957929381454, -1.604713067851477]\n",
      "\n",
      "\n",
      "Message on topic timeSerieS\n",
      "\t ID  5  SIZE  1000  INPUT  [-1.1932808418968985, -1.589162385988133, -1.2764165896047135, -1.1041673483058292, -1.4420719304846918]\n",
      "\n",
      "\n",
      "Message on topic timeSerieS\n",
      "\t ID  6  SIZE  1000  INPUT  [-1.0945354646802588, -1.4156379090851727, -1.5184271775645795, -1.0820500544133709, -1.2693085902250325]\n",
      "\n",
      "\n",
      "Message on topic timeSerieS\n",
      "\t ID  7  SIZE  1000  INPUT  [-1.0889996490952296, -1.2485968602870787, -1.6220328116829, -1.1928202938089623, -1.1409066465758293]\n",
      "\n",
      "\n",
      "Message on topic timeSerieS\n",
      "\t ID  8  SIZE  1000  INPUT  [-1.2193977467296768, -1.126959774809485, -1.4926219179994953, -1.421505191245984, -1.0769153933339846]\n",
      "\n",
      "\n",
      "Message on topic timeSerieS\n",
      "\t ID  9  SIZE  1000  INPUT  [-1.4563251557155301, -1.0762449544162713, -1.311278773076614, -1.6113267032797747, -1.1304946771399755]\n",
      "\n",
      "\n",
      "Message on topic timeSerieS\n",
      "\t ID  10  SIZE  1000  INPUT  [-1.6203359415665086, -1.1493283773758645, -1.1706434380896997, -1.5633312754319852, -1.3198031935898444]\n",
      "\n",
      "\n",
      "Message on topic timeSerieS\n",
      "\t ID  11  SIZE  1000  INPUT  [-1.5406094407377067, -1.3542636851466654, -1.0846833477081528, -1.381582195289446, -1.5555676206720574]\n",
      "\n",
      "\n",
      "Message on topic timeSerieS\n",
      "\t ID  12  SIZE  1000  INPUT  [-1.3565674021481837, -1.579303769969185, -1.1024040522755292, -1.2226315743883154, -1.611918222306177]\n",
      "\n",
      "\n",
      "Message on topic timeSerieS\n",
      "\t ID  13  SIZE  1000  INPUT  [-1.2039099238978048, -1.5988052009271114, -1.2579815117965234, -1.1106288826796888, -1.457754761036576]\n",
      "\n",
      "\n",
      "Message on topic timeSerieS\n",
      "\t ID  14  SIZE  1000  INPUT  [-1.1000008314089285, -1.4311743176973764, -1.5000818212994027, -1.079230748917321, -1.2819281805994944]\n",
      "\n",
      "\n",
      "Message on topic timeSerieS\n",
      "\t ID  15  SIZE  1000  INPUT  [-1.084571700325588, -1.2606957822305673, -1.6236490383705389, -1.1783439252403884, -1.1496826907779119]\n",
      "\n",
      "\n",
      "Message on topic timeSerieS\n",
      "\t ID  16  SIZE  1000  INPUT  [-1.2034365964579397, -1.1350286689709428, -1.507907947071854, -1.4006956076060604, -1.0784384680066288]\n",
      "\n",
      "\n",
      "Message on topic timeSerieS\n",
      "\t ID  17  SIZE  1000  INPUT  [-1.4359121422762349, -1.0763428549853333, -1.32492376283435, -1.60344008844869, -1.1207128025216553]\n",
      "\n",
      "\n",
      "Message on topic timeSerieS\n",
      "\t ID  18  SIZE  1000  INPUT  [-1.6157016029160398, -1.137891450489435, -1.1805727757924451, -1.5755468773658257, -1.3000608356411174]\n",
      "\n",
      "\n"
     ]
    },
    {
     "ename": "KeyboardInterrupt",
     "evalue": "",
     "output_type": "error",
     "traceback": [
      "\u001b[0;31m---------------------------------------------------------------------------\u001b[0m",
      "\u001b[0;31mKeyboardInterrupt\u001b[0m                         Traceback (most recent call last)",
      "\u001b[0;32m<ipython-input-6-1821cd11414d>\u001b[0m in \u001b[0;36m<module>\u001b[0;34m\u001b[0m\n\u001b[1;32m     27\u001b[0m             \u001b[0mprint\u001b[0m\u001b[0;34m(\u001b[0m\u001b[0;34m'\\r\\n'\u001b[0m\u001b[0;34m)\u001b[0m\u001b[0;34m\u001b[0m\u001b[0;34m\u001b[0m\u001b[0m\n\u001b[1;32m     28\u001b[0m             \u001b[0mmessage_manager\u001b[0m\u001b[0;34m.\u001b[0m\u001b[0mreset_message\u001b[0m\u001b[0;34m(\u001b[0m\u001b[0;34m)\u001b[0m\u001b[0;34m\u001b[0m\u001b[0;34m\u001b[0m\u001b[0m\n\u001b[0;32m---> 29\u001b[0;31m             \u001b[0mtime\u001b[0m\u001b[0;34m.\u001b[0m\u001b[0msleep\u001b[0m\u001b[0;34m(\u001b[0m\u001b[0mtime_delay\u001b[0m\u001b[0;34m)\u001b[0m \u001b[0;31m# wait a bit to sent the other message\u001b[0m\u001b[0;34m\u001b[0m\u001b[0;34m\u001b[0m\u001b[0m\n\u001b[0m\u001b[1;32m     30\u001b[0m \u001b[0;34m\u001b[0m\u001b[0m\n\u001b[1;32m     31\u001b[0m     \u001b[0my_future\u001b[0m \u001b[0;34m=\u001b[0m \u001b[0mget_y_future\u001b[0m\u001b[0;34m(\u001b[0m\u001b[0my_current\u001b[0m\u001b[0;34m,\u001b[0m \u001b[0my_before\u001b[0m\u001b[0;34m)\u001b[0m\u001b[0;34m\u001b[0m\u001b[0;34m\u001b[0m\u001b[0m\n",
      "\u001b[0;31mKeyboardInterrupt\u001b[0m: "
     ]
    }
   ],
   "source": [
    "np.random.seed(2452020515) # Fix seed to ensure repeatability\n",
    "\n",
    "time_delay = 5\n",
    "messages_sent = 0\n",
    "\n",
    "message_manager_factory = MessageManagerFactory()\n",
    "message_manager_factory.create(1000, topic_name = 'timeSerieS')\n",
    "\n",
    "# y(t-1), y(t), y(t+1)\n",
    "y_before = np.random.random()\n",
    "y_current = np.random.random()\n",
    "y_future = None\n",
    "\n",
    "message_manager_factory.add_input(y_before)\n",
    "message_manager_factory.add_input(y_current)\n",
    "\n",
    "#Infinite loop for sending messages to Kafka with the topic_name\n",
    "while True:\n",
    "    \n",
    "    for message_manager in message_manager_factory.get_all():\n",
    "        # if the data is enough send the message\n",
    "        if message_manager.has_reached_input_size_limit():\n",
    "            message_manager.increment_message_sent()\n",
    "            sent_message = send_message(message_manager.message, producer, message_manager.topic_name)\n",
    "            print('Message on topic', message_manager.topic_name)\n",
    "            print('\\t ID ',message_manager.message.id,' SIZE ', message_manager.input_vector_size, ' INPUT ', message_manager.message.x[:5])\n",
    "            print('\\r\\n')\n",
    "            message_manager.reset_message()\n",
    "            time.sleep(time_delay) # wait a bit to sent the other message\n",
    "\n",
    "    y_future = get_y_future(y_current, y_before)\n",
    "    y_before = y_current\n",
    "    y_current = y_future\n",
    "\n",
    "    message_manager_factory.add_input(y_future)\n",
    "    "
   ]
  },
  {
   "cell_type": "code",
   "execution_count": null,
   "metadata": {},
   "outputs": [],
   "source": []
  }
 ],
 "metadata": {
  "kernelspec": {
   "display_name": "Python 3",
   "language": "python",
   "name": "python3"
  },
  "language_info": {
   "codemirror_mode": {
    "name": "ipython",
    "version": 3
   },
   "file_extension": ".py",
   "mimetype": "text/x-python",
   "name": "python",
   "nbconvert_exporter": "python",
   "pygments_lexer": "ipython3",
   "version": "3.7.3"
  }
 },
 "nbformat": 4,
 "nbformat_minor": 1
}
