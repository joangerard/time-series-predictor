{
 "cells": [
  {
   "cell_type": "markdown",
   "metadata": {},
   "source": [
    "# Producer"
   ]
  },
  {
   "cell_type": "markdown",
   "metadata": {},
   "source": [
    "The data was generated based on the following formula:\n",
    "\n",
    "$$\n",
    "y(t+1) = -0.4 \\frac{(3 - y(t)^2)}{(1 + y(t)^2)} + 0.6 \\frac{(3 - (y(t-1) - 0.5)^3)}{(1 + (y(t-1) - 0.5)^3)}\n",
    "$$\n"
   ]
  },
  {
   "cell_type": "code",
   "execution_count": 1,
   "metadata": {},
   "outputs": [],
   "source": [
    "from kafka import KafkaProducer\n",
    "import time\n",
    "import numpy as np\n",
    "import json\n",
    "from message import Message"
   ]
  },
  {
   "cell_type": "code",
   "execution_count": 2,
   "metadata": {},
   "outputs": [],
   "source": [
    "producer = KafkaProducer(bootstrap_servers='localhost:9092')"
   ]
  },
  {
   "cell_type": "code",
   "execution_count": 3,
   "metadata": {},
   "outputs": [],
   "source": [
    "def get_y_future(y_current, y_before):\n",
    "    \"\"\"\n",
    "    Calculates the y(t+1) based on y(t) and y(t-1)\n",
    "    \n",
    "    Parameters\n",
    "    ----------\n",
    "    arg1: float\n",
    "        represents y(t)\n",
    "    arg2: float\n",
    "        represents y(t-1)\n",
    "        \n",
    "    Returns\n",
    "    -------\n",
    "    float\n",
    "        y(t+1)\n",
    "    \"\"\"\n",
    "    return -0.4 * (3 - pow(y_current, 2))/(1 + pow(y_current, 2)) + 0.6 * (3 - pow(y_before - 0.5, 3)) / (1 + pow(y_before - 0.5, 3))\n"
   ]
  },
  {
   "cell_type": "code",
   "execution_count": 4,
   "metadata": {},
   "outputs": [],
   "source": [
    "def send_message(message, producer, topic_name):\n",
    "    \"\"\"\n",
    "    It uses the producer to sent a message using that topic's name\n",
    "    \n",
    "    Parameters\n",
    "    ----------\n",
    "    arg1: Message\n",
    "        an object containing the id and the inputs xs\n",
    "    arg2: KafkaProducer\n",
    "    arg3: string\n",
    "    \n",
    "    Returns\n",
    "    -------\n",
    "    string\n",
    "        JSON message that was sent\n",
    "    \"\"\"\n",
    "\n",
    "    message_json = json.dumps(message.__dict__)\n",
    "    producer.send(topic_name, message_json.encode())\n",
    "    return message_json"
   ]
  },
  {
   "cell_type": "code",
   "execution_count": 8,
   "metadata": {},
   "outputs": [
    {
     "name": "stdout",
     "output_type": "stream",
     "text": [
      "\t ID  1  SIZE  100  INPUT  [0.0024151530439742164, 0.027939322560110558, 0.938466063764634, 1.631408777013852, 1.5764373213527065]\n",
      "\n",
      "\n",
      "\t ID  2  SIZE  100  INPUT  [-1.2807545908243094, -1.0525911914735415, -1.4755022113204022, -1.5786905435719916, -1.0158512925006284]\n",
      "\n",
      "\n",
      "\t ID  3  SIZE  100  INPUT  [-1.0635969823606095, -1.3764500615613278, -1.6029890634728405, -1.0762613380250907, -1.2304466463965211]\n",
      "\n",
      "\n",
      "\t ID  4  SIZE  100  INPUT  [-1.256104043220387, -1.6398974594840607, -1.1772120022268324, -1.143386963955084, -1.538938195958925]\n",
      "\n",
      "\n",
      "\t ID  5  SIZE  100  INPUT  [-1.5441783616434201, -1.3558942012725201, -1.0819087504225262, -1.3822243844384996, -1.560913189195222]\n",
      "\n",
      "\n",
      "\t ID  6  SIZE  100  INPUT  [-1.5530948614797917, -1.08900788017766, -1.245504416706639, -1.6239065209930805, -1.1957042431657583]\n",
      "\n",
      "\n",
      "\t ID  7  SIZE  100  INPUT  [-1.1938413474335727, -1.139870195374434, -1.5176569771892008, -1.388200292348849, -1.0793136136334378]\n",
      "\n",
      "\n",
      "\t ID  8  SIZE  100  INPUT  [-1.0797760400803897, -1.358886615437871, -1.5776749754899724, -1.1011108457676293, -1.2243575497842605]\n",
      "\n",
      "\n",
      "\t ID  9  SIZE  100  INPUT  [-1.2250124201078116, -1.613414209252236, -1.2247443903928723, -1.124373765418371, -1.4876655580587068]\n",
      "\n",
      "\n",
      "\t ID  10  SIZE  100  INPUT  [-1.4883015618643727, -1.42736798295052, -1.0766017708957116, -1.3306896449915875, -1.5996869695107963]\n",
      "\n",
      "\n"
     ]
    }
   ],
   "source": [
    "np.random.seed(2452020515) # Fix seed to ensure repeatability\n",
    "\n",
    "time_delay = 5\n",
    "messages_sent = 0\n",
    "\n",
    "T = 1000\n",
    "stream_size = 100 \n",
    "topic_name = \"timeSerieS\"\n",
    "\n",
    "# y(t-1), y(t), y(t+1)\n",
    "y_before = np.random.random()\n",
    "y_current = np.random.random()\n",
    "y_future = None\n",
    "\n",
    "message = Message()\n",
    "\n",
    "#Infinite loop for sending messages to Kafka with the topic_name\n",
    "while T > 0:\n",
    "    message.x = []\n",
    "    message.id += 1\n",
    "    message.x.append(y_before)\n",
    "    message.x.append(y_current)\n",
    "    \n",
    "    current_stream_size = min(T, stream_size)\n",
    "    \n",
    "    for i in range(current_stream_size - 2):\n",
    "        y_future = get_y_future(y_current, y_before)\n",
    "        message.x.append(y_future)\n",
    "        \n",
    "        y_before = y_current\n",
    "        y_current = y_future\n",
    "        \n",
    "    print('\\t ID ', message.id,' SIZE ', current_stream_size, ' INPUT ', message.x[:5])\n",
    "    print('\\r\\n')\n",
    "    \n",
    "    send_message(message, producer, topic_name)\n",
    "    time.sleep(time_delay)\n",
    "        \n",
    "    T -= stream_size\n",
    "    "
   ]
  },
  {
   "cell_type": "code",
   "execution_count": null,
   "metadata": {},
   "outputs": [],
   "source": []
  },
  {
   "cell_type": "code",
   "execution_count": null,
   "metadata": {},
   "outputs": [],
   "source": []
  }
 ],
 "metadata": {
  "kernelspec": {
   "display_name": "Python 3",
   "language": "python",
   "name": "python3"
  },
  "language_info": {
   "codemirror_mode": {
    "name": "ipython",
    "version": 3
   },
   "file_extension": ".py",
   "mimetype": "text/x-python",
   "name": "python",
   "nbconvert_exporter": "python",
   "pygments_lexer": "ipython3",
   "version": "3.7.3"
  }
 },
 "nbformat": 4,
 "nbformat_minor": 1
}
